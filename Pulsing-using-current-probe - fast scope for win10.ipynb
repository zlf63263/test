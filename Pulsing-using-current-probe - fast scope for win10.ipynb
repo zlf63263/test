{
 "cells": [
  {
   "cell_type": "code",
   "execution_count": 17,
   "metadata": {},
   "outputs": [],
   "source": [
    "from lightlab.equipment.visa_bases import VISAInstrumentDriver\n",
    "from lightlab.laboratory.instruments import Instrument\n",
    "import numpy as np\n",
    "import time\n",
    "from lightlab.equipment.lab_instruments import Keithley_2400_SM\n",
    "from lightlab.equipment.lab_instruments import Tektronix_TDS6154C_Oscope\n",
    "import pyvisa\n",
    "from lightlab.util.data import Waveform\n",
    "from lightlab.util.sweep import NdSweeper"
   ]
  },
  {
   "cell_type": "code",
   "execution_count": 18,
   "metadata": {
    "code_folding": []
   },
   "outputs": [],
   "source": [
    "#Pulser driver\n",
    "from lightlab.equipment.visa_bases import VISAInstrumentDriver\n",
    "from lightlab.laboratory.instruments import Instrument\n",
    "class Avtech_7B_B_Driver(VISAInstrumentDriver):\n",
    "    '''An Avtech-7B-B pulser driver - will work with most -B Avtech generators.\n",
    "        Manual: https://www.avtechpulse.com/manuals/programming/programming.pdf\n",
    "    '''\n",
    "    instrument_category = Instrument\n",
    "    \n",
    "    def __init__(self, name=None, address=None):\n",
    "        VISAInstrumentDriver.__init__(self, name=name, address=address)\n",
    "    # Sets conditions to what they are when the pulser is turned on.\n",
    "    def startup(self):\n",
    "        self.write('*RST') \n",
    "    # Set pulse width\n",
    "    def set_PW(self, pw):\n",
    "        self.write('pulse:width {:s}'.format(pw))\n",
    "    #S MS US NS PS - must write pulse width as e.g. 100ns 100us etc.\n",
    "    # Set pulse delay\n",
    "    def set_PD(self, pd):\n",
    "        self.write('pulse:delay {:s}'.format(pd))\n",
    "    #S MS US NS PS - must write pulse width as e.g. 100ns 100us etc.               \n",
    "    def set_freq(self, freq):\n",
    "        self.write('source:frequency {:s}'.format(freq))\n",
    "    #MHZ KHZ HZ UHZ - write freq as 1 KHz, default unit is hertz so 1000 = 1000 Hz, scientific notation works\n",
    "    def query_pw(self, limit):\n",
    "        self.write('pulse:width? {:s}'.format(limit) )              \n",
    "    def set_volt(self,volt):\n",
    "        self.write('volt {:s}'.format(volt))\n",
    "    def turn_on(self):\n",
    "        self.write('output on')\n",
    "    def turn_off(self):\n",
    "        self.write('output off')    "
   ]
  },
  {
   "cell_type": "code",
   "execution_count": 19,
   "metadata": {
    "code_folding": [
     0
    ]
   },
   "outputs": [
    {
     "ename": "SyntaxError",
     "evalue": "invalid syntax (<ipython-input-19-f5d693732b6a>, line 186)",
     "output_type": "error",
     "traceback": [
      "\u001b[1;36m  File \u001b[1;32m\"<ipython-input-19-f5d693732b6a>\"\u001b[1;36m, line \u001b[1;32m186\u001b[0m\n\u001b[1;33m    The following instructs every 3rd data point (SP = 3) starting at address 200 for transfer:\u001b[0m\n\u001b[1;37m        ^\u001b[0m\n\u001b[1;31mSyntaxError\u001b[0m\u001b[1;31m:\u001b[0m invalid syntax\n"
     ]
    }
   ],
   "source": [
    "#Tektronix driver\n",
    "class Tektronix_TDS3054B(VISAInstrumentDriver):\n",
    "    '''http://ece-research.unm.edu/jimp/650/instr_docs/tds3000_prog.pdf\n",
    "    '''\n",
    "    instrument_category = Instrument\n",
    "    totalChans = 4\n",
    "    isSampling = None\n",
    "    _runModeParam = 1\n",
    "    _runModeSingleShot = None\n",
    "   \n",
    "    \n",
    "    def __init__(self, name=None, address=None):\n",
    "        VISAInstrumentDriver.__init__(self, name=name, address=address)\n",
    "       # Turns output off and sets output level to zero.\n",
    "    def startup(self):\n",
    "        self.write('*RST') \n",
    "    # Select measure function - by default CURR    \n",
    "    def timeBaseConfig(self, avgCnt=None, duration=None):\n",
    "        self.write('HORIZONTAL:MAIN:SAMPLERATE', 2.5e9)\n",
    "        if avgCnt is not None and avgCnt > 1:\n",
    "            self.write('ACQUIRE:NUMAVG', avgCnt)\n",
    "        if duration is not None:\n",
    "            self.write('HORIZONTAL:MAIN:SCALE', duration / 10)\n",
    "            self.write('HORIZONTAL:RECORDLENGTH', 10 * int(duration * 2.5e9))\n",
    "            self.setConfigParam('DATA:START', 1)\n",
    "            self.setConfigParam('DATA:STOP', int(duration * 2.5e9))\n",
    "            \n",
    "    \n",
    "    def _triggerAcquire(self, timeout=None):\n",
    "        ''' Sends a signal to the scope to wait for a trigger event.\n",
    "            Waits until acquisition completes or timeout (in seconds).\n",
    "\n",
    "            If timeout is very long, it will try a test first\n",
    "        '''\n",
    "        if timeout is None:\n",
    "            timeout = self.timeout / 1e3\n",
    "        if timeout > 60:\n",
    "            logger.warning(f'Long timeout {timeout} specified, testing')\n",
    "            old_avgCnt = self.timebaseConfig()['avgCnt']\n",
    "            self.timebaseConfig(avgCnt=2)\n",
    "            self._triggerAcquire(timeout=10)\n",
    "            logger.warning('Test succeeded. Doing long average now')\n",
    "            self.timebaseConfig(avgCnt=old_avgCnt)\n",
    "        self.write('ACQUIRE:STATE 1')  # activate the trigger listener\n",
    "        # Bus and entire program stall until acquisition completes. Maximum of 30 seconds\n",
    "        self.wait(int(timeout * 1e3))\n",
    "\n",
    "    def __transferData(self, chan):\n",
    "        ''' Returns the raw data pulled from the scope as time (seconds) and voltage (Volts)\n",
    "            Args:\n",
    "                chan (int): one channel at a time\n",
    "\n",
    "            Returns:\n",
    "                :mod:`data.Waveform`: a time, voltage paired signal\n",
    "\n",
    "            Todo:\n",
    "                Make this binary transfer to go even faster\n",
    "        '''\n",
    "        chStr = 'CH' + str(chan)\n",
    "        self.write('DATA:ENCDG ASCII')\n",
    "        self.write('DATA:SOURCE '+chStr)\n",
    "\n",
    "        voltRaw = self.query_ascii_values('CURV?')\n",
    "        return voltRaw\n",
    "\n",
    "    \n",
    "    \n",
    "    def __getUnit(self):\n",
    "        ''' Gets the unit of the waveform as a string.\n",
    "\n",
    "            Normally, this will be '\"V\"', which can be converted to 'V'\n",
    "        '''\n",
    "\n",
    "        yunit_query = self.query('WFMPRE:YUNIT?')\n",
    "        return yunit_query.replace('\"', '')\n",
    "\n",
    "\n",
    "    \n",
    "    def __scaleData(self, voltRaw):\n",
    "        ''' Scale to second and voltage units.\n",
    "\n",
    "            DSA and DPO are very annoying about treating ymult and yscale differently.\n",
    "            TDS uses ymult not yscale\n",
    "\n",
    "            Args:\n",
    "                voltRaw (ndarray): what is returned from ``__transferData``\n",
    "\n",
    "            Returns:\n",
    "                (ndarray): time in seconds, centered at t=0 regardless of timebase position\n",
    "                (ndarray): voltage in volts\n",
    "\n",
    "            Notes:\n",
    "                The formula for real voltage should be (Y - YOFF) * YSCALE + YZERO.\n",
    "                The Y represents the position of the sampled point on-screen,\n",
    "                YZERO, the reference voltage, YOFF, the offset position, and\n",
    "                YSCALE, the conversion factor between position and voltage.\n",
    "        '''\n",
    "        #get = lambda param: float(self.getConfigParam('WFMOUTPRE:' + param, forceHardware=True))\n",
    "        \n",
    "\n",
    "        voltage = (np.array(voltRaw) - float(self.query('WFMPRE:YOFF?'))) \\\n",
    "            * float(self.query('WFMPRE:YMULT?')) \\\n",
    "            + float(self.query('WFMPRE:YZERO?'))\n",
    "    \n",
    "    \n",
    "        sample_rate = 1/float(self.query('WFMPre:XINcr?'))\n",
    "        # time = np.linspace(-1, 1, len(voltage)) / 2 * timeDivision * 10\n",
    "        time = np.arange(len(voltage)) / sample_rate\n",
    "        time -= np.mean(time)\n",
    "\n",
    "        return time, voltage\n",
    "\n",
    "    \n",
    "    def run(self, continuousRun=True):\n",
    "        ''' Sets the scope to continuous run mode, so you can look at it in lab,\n",
    "            or to single-shot mode, so that data can be acquired\n",
    "\n",
    "            Args:\n",
    "                continuousRun (bool)\n",
    "        '''\n",
    "    \n",
    "        \n",
    "        if continuousRun:\n",
    "            self.write(self._runModeParam,'RUNSTOP')\n",
    "            \n",
    "        else:\n",
    "            self._runModeSingleShot\n",
    "            \n",
    "        if continuousRun:\n",
    "            self.write('ACQUIRE:STATE', 1)\n",
    "    \n",
    "    \n",
    "    def _setupSingleShot(self, isSampling):\n",
    "        ''' Set up a single shot acquisition.\n",
    "\n",
    "                Not running continuous, and\n",
    "                acquire mode set SAMPLE/AVERAGE\n",
    "\n",
    "            Subclasses usually have additional settings to set here.\n",
    "\n",
    "            Args:\n",
    "                isSampling (bool): is it in sampling (True) or averaging (False) mode\n",
    "                forcing (bool): if False, trusts that no manual changes were made, except to run continuous/RUNSTOP\n",
    "\n",
    "            Todo:\n",
    "                Missing DPO trigger source setting.\n",
    "                Should we force it when averaging?\n",
    "                Probably not because it could be CH1, CH2, AUX.\n",
    "        '''\n",
    "        self.run(False)\n",
    "        \n",
    "        if isSampling:\n",
    "            self.write('ACQUIRE:MODE SAMPLE')\n",
    "        else: self.write('ACQUIRE:MODE AVERAGE')\n",
    "                          \n",
    "            \n",
    "    def acquire(self, chans=None, avgCnt=0, duration=0, timeout = None):\n",
    "\n",
    "        for c in chans:\n",
    "            if c > self.totalChans:\n",
    "                raise Exception('Received channel: ' + str(c) +\n",
    "                                '. Max channels of this scope is ' + str(self.totalChans))\n",
    "\n",
    "        # Channel select\n",
    "        for ich in range(1, 1 + self.totalChans):\n",
    "            thisState = 1 if ich in chans else 0\n",
    "            self.write('SELECT:CH' + str(ich))\n",
    "\n",
    "            \n",
    "            \n",
    "        isSampling = 0\n",
    "        #isSampling = 1\n",
    "        self._setupSingleShot(isSampling)    \n",
    "        self._triggerAcquire(timeout=timeout)  \n",
    "        \n",
    "        wfms = [None] * len(chans)\n",
    "        for i, c in enumerate(chans):\n",
    "            vRaw = self.__transferData(c)\n",
    "            t, v = self.__scaleData(vRaw)\n",
    "            unit = self.__getUnit()\n",
    "            wfms[i] = Waveform(t, v, unit=unit)\n",
    "\n",
    "        return wfms           \n",
    "                   \n",
    "        \n",
    "The following instructs every 3rd data point (SP = 3) starting at address 200 for transfer:\n",
    "CMD$=\"WFSU SP,3,FP,200\": CALL IBWRT(SCOPE%,CMD$)\n",
    "    \n",
    "    \n",
    "    \n",
    "FILE$=\"CHAN1.DAT\":RD$=SPACE$(3)\n",
    "CMD$=\"CHDR SHORT; C1:WF?\"\n",
    "CALL IBWRT(SCOPE%,CMD$)\n",
    "CALL IBRD(SCOPE%,RD$) ' Skip first 3 characters \"C1:\" CALL IBRDF(SCOPE%,FILE$) ' Save data in file \"CHAN1.DAT\"\n",
    "\n"
   ]
  },
  {
   "cell_type": "code",
   "execution_count": 20,
   "metadata": {
    "code_folding": [
     0
    ]
   },
   "outputs": [],
   "source": [
    "class LeCroy_Waverunner_Driver(VISAInstrumentDriver):\n",
    "    '''LeCroy Waverunner 8404   \n",
    "    http://cdn.teledynelecroy.com/files/manuals/maui-remote-control-and-automation-manual.pdf\n",
    "    '''\n",
    "    instrument_category = Instrument\n",
    "    totalChans = 4\n",
    "    isSampling = None\n",
    "    _runModeParam = 1\n",
    "    _runModeSingleShot = None\n",
    "\n",
    "    \n",
    "    def _setupSingleShot(self, isSampling):\n",
    "        ''' Set up a single shot acquisition.\n",
    "\n",
    "                Not running continuous, and\n",
    "                acquire mode set SAMPLE/AVERAGE\n",
    "\n",
    "            Subclasses usually have additional settings to set here.\n",
    "\n",
    "            Args:\n",
    "                isSampling (bool): is it in sampling (True) or averaging (False) mode\n",
    "                forcing (bool): if False, trusts that no manual changes were made, except to run continuous/RUNSTOP\n",
    "\n",
    "            Todo:\n",
    "                Missing DPO trigger source setting.\n",
    "                Should we force it when averaging?\n",
    "                Probably not because it could be CH1, CH2, AUX.\n",
    "        '''\n",
    "        self.run(False)\n",
    "        \n",
    "        if isSampling:\n",
    "            self.write('ACQUIRE:MODE SAMPLE')\n",
    "        else: self.write('ACQUIRE:MODE AVERAGE')\n",
    "            \n",
    "            \n",
    "    def __getUnit(self):\n",
    "        ''' Gets the unit of the waveform as a string.\n",
    "\n",
    "            Normally, this will be '\"V\"', which can be converted to 'V'\n",
    "        '''\n",
    "\n",
    "        #yunit_query = self.getConfigParam('WFMOUTPRE:YUNIT', forceHardware=True)\n",
    "        VerticalUnits = self.getConfigParam('app.Acquisition.C1.Out.Result.VerticalUnits', forceHardware = True)\n",
    "        return yunit_query.replace('\"', '')\n",
    "\n",
    "    def __transferData(self, chan):\n",
    "        ''' Returns the raw data pulled from the scope as time (seconds) and voltage (Volts)\n",
    "            Args:\n",
    "                chan (int): one channel at a time\n",
    "\n",
    "            Returns:\n",
    "                :mod:`data.Waveform`: a time, voltage paired signal\n",
    "\n",
    "            Todo:\n",
    "                Make this binary transfer to go even faster\n",
    "        '''\n",
    "        chStr = 'CH' + str(chan)\n",
    "        self.setConfigParam('DATA:ENCDG', 'ASCII')\n",
    "        self.setConfigParam('DATA:SOURCE', chStr)\n",
    "        self.open()\n",
    "        try:\n",
    "            voltRaw = self.mbSession.query_ascii_values('CURV?')\n",
    "        except pyvisa.VisaIOError as err:\n",
    "            logger.error('Problem during query_ascii_values(\\'CURV?\\')')\n",
    "            try:\n",
    "                self.close()\n",
    "            except pyvisa.VisaIOError:\n",
    "                logger.error('Failed to close! %s', self.address)\n",
    "            raise err\n",
    "        self.close()\n",
    "        return voltRaw\n",
    "\n",
    "    def acquire(self, chans=None, avgCnt=0, duration=0, timeout = None):\n",
    "\n",
    "        for c in chans:\n",
    "            if c > self.totalChans:\n",
    "                raise Exception('Received channel: ' + str(c) +\n",
    "                                '. Max channels of this scope is ' + str(self.totalChans))\n",
    "\n",
    "# Don't need now that commands can start with C...)\n",
    "#         # Channel select\n",
    "#         for ich in range(1, 1 + self.totalChans):\n",
    "#             thisState = 1 if ich in chans else 0\n",
    "#             self.write('SELECT:CH' + str(ich))\n",
    "\n",
    "            \n",
    "            \n",
    "        isSampling = 0\n",
    "        #isSampling = 1\n",
    "        self._setupSingleShot(isSampling)    \n",
    "        self._triggerAcquire(timeout=timeout)  \n",
    "        \n",
    "        wfms = [None] * len(chans)\n",
    "        for i, c in enumerate(chans):\n",
    "            vRaw = self.__transferData(c)\n",
    "            t, v = self.__scaleData(vRaw)\n",
    "            unit = self.__getUnit()\n",
    "            wfms[i] = Waveform(t, v, unit=unit)\n",
    "\n",
    "        return wfms    \n"
   ]
  },
  {
   "cell_type": "code",
   "execution_count": 21,
   "metadata": {},
   "outputs": [
    {
     "name": "stderr",
     "output_type": "stream",
     "text": [
      "2021-02-23 13:31:13,543 - INFO - lightlab:\n",
      "\tFound LeCroy Scope in TCPIP0::128.112.48.124::inst0::INSTR.\n"
     ]
    },
    {
     "name": "stdout",
     "output_type": "stream",
     "text": [
      "*IDN LECROY,WAVERUNNER8404,LCRY4204N20439,8.8.0\n",
      "Connection is good for scope\n"
     ]
    }
   ],
   "source": [
    "#START SCOPE\n",
    "#scope = Tektronix_TDS3054B(name='My scope', address='prologix://lightwave-lab-prologix2.ee.princeton.edu/2')\n",
    "lecroy =  LeCroy_Waverunner_Driver(name='LeCroy Scope', address='TCPIP0::128.112.48.124::inst0::INSTR')\n",
    "\n",
    "print(lecroy.driver.instrID())\n",
    "if lecroy.isLive(): \n",
    "    print('Connection is good for scope') \n",
    "    \n"
   ]
  },
  {
   "cell_type": "code",
   "execution_count": 22,
   "metadata": {
    "scrolled": true
   },
   "outputs": [
    {
     "name": "stderr",
     "output_type": "stream",
     "text": [
      "2021-02-23 13:31:14,157 - INFO - lightlab:\n",
      "\tFound My Pulser in GPIB0::14::INSTR.\n"
     ]
    },
    {
     "name": "stdout",
     "output_type": "stream",
     "text": [
      "Connection is good for Avtech\n"
     ]
    }
   ],
   "source": [
    "#START PULSER\n",
    "av = Avtech_7B_B_Driver(name='My Pulser', address='GPIB0::14::INSTR')\n",
    "#av.driver.instrID()\n",
    "if av.isLive():\n",
    "    print('Connection is good for Avtech') "
   ]
  },
  {
   "cell_type": "code",
   "execution_count": 29,
   "metadata": {},
   "outputs": [],
   "source": [
    "# set pulser\n",
    "\n",
    "av.driver.set_PW('30ns')\n",
    "av.driver.set_freq('3Hz')\n",
    "av.driver.set_volt('13')\n",
    "\n",
    "av.driver.turn_on()"
   ]
  },
  {
   "cell_type": "code",
   "execution_count": 30,
   "metadata": {},
   "outputs": [],
   "source": [
    "# stop pulser\n",
    "av.driver.turn_off()"
   ]
  },
  {
   "cell_type": "code",
   "execution_count": null,
   "metadata": {},
   "outputs": [],
   "source": []
  },
  {
   "cell_type": "code",
   "execution_count": 633,
   "metadata": {
    "code_folding": [],
    "scrolled": false
   },
   "outputs": [
    {
     "name": "stderr",
     "output_type": "stream",
     "text": [
      "2020-10-14 17:13:24,551 - WARNING - lightlab.visa:\n",
      "\tAccess to VISAObject.resMan will be deprecated soon. Please include it in InstrumentSessionBase. \n",
      "2020-10-14 17:13:24,569 - WARNING - lightlab.visa:\n",
      "\tAccess to VISAObject.mbSession will be deprecated soon. Please include it in InstrumentSessionBase. \n",
      "2020-10-14 17:13:24,577 - WARNING - lightlab.visa:\n",
      "\tAccess to VISAObject.mbSession will be deprecated soon. Please include it in InstrumentSessionBase. \n",
      "2020-10-14 17:13:24,666 - WARNING - lightlab.visa:\n",
      "\tAccess to VISAObject.resMan will be deprecated soon. Please include it in InstrumentSessionBase. \n",
      "2020-10-14 17:13:24,677 - WARNING - lightlab.visa:\n",
      "\tAccess to VISAObject.mbSession will be deprecated soon. Please include it in InstrumentSessionBase. \n",
      "2020-10-14 17:13:24,686 - WARNING - lightlab.visa:\n",
      "\tAccess to VISAObject.mbSession will be deprecated soon. Please include it in InstrumentSessionBase. \n"
     ]
    },
    {
     "name": "stdout",
     "output_type": "stream",
     "text": [
      "C1:INSP \"\r\n",
      "DESCRIPTOR_NAME    : WAVEDESC           \r\n",
      "TEMPLATE_NAME      : LECROY_2_3         \r\n",
      "COMM_TYPE          : byte               \r\n",
      "COMM_ORDER         : LOFIRST            \r\n",
      "WAVE_DESCRIPTOR    : 346                \r\n",
      "USER_TEXT          : 0                  \r\n",
      "RES_DESC1          : 0                  \r\n",
      "TRIGTIME_ARRAY     : 0                  \r\n",
      "RIS_TIME_ARRAY     : 0                  \r\n",
      "RES_ARRAY1         : 0                  \r\n",
      "WAVE_ARRAY_1       : 2002               \r\n",
      "WAVE_ARRAY_2       : 0                  \r\n",
      "RES_ARRAY2         : 0                  \r\n",
      "RES_ARRAY3         : 0                  \r\n",
      "INSTRUMENT_NAME    : LECROYWaveRunnerWO \r\n",
      "INSTRUMENT_NUMBER  : 20439              \r\n",
      "TRACE_LABEL        :                    \r\n",
      "RESERVED1          : 2002               \r\n",
      "RESERVED2          : 0                  \r\n",
      "WAVE_ARRAY_COUNT   : 2002               \r\n",
      "PNTS_PER_SCREEN    : 2000               \r\n",
      "FIRST_VALID_PNT    : 0                  \r\n",
      "LAST_VALID_PNT     : 2001               \r\n",
      "FIRST_POINT        : 0                  \r\n",
      "SPARSING_FACTOR    : 1                  \r\n",
      "SEGMENT_INDEX      : 0                  \r\n",
      "SUBARRAY_COUNT     : 1                  \r\n",
      "SWEEPS_PER_ACQ     : 1                  \r\n",
      "POINTS_PER_PAIR    : 0                  \r\n",
      "PAIR_OFFSET        : 0                  \r\n",
      "VERTICAL_GAIN      : 3.5152e-03         \r\n",
      "VERTICAL_OFFSET    : -3.0200e-01        \r\n",
      "MAX_VALUE          : 1.1300e+02         \r\n",
      "MIN_VALUE          : -1.1400e+02        \r\n",
      "NOMINAL_BITS       : 8                  \r\n",
      "NOM_SUBARRAY_COUNT : 1                  \r\n",
      "HORIZ_INTERVAL     : 1.0000e-10         \r\n",
      "HORIZ_OFFSET       : -6.48255679e-08    \r\n",
      "PIXEL_OFFSET       : -6.48000000e-08    \r\n",
      "VERTUNIT           : Unit Name = V\r\n",
      "HORUNIT            : Unit Name = S\r\n",
      "HORIZ_UNCERTAINTY  : 1.0000e-12         \r\n",
      "TRIGGER_TIME       : Date = OCT 14, 2020, Time = 14:13:24.792914696\r\n",
      "ACQ_DURATION       : 0.0000e+00         \r\n",
      "RECORD_TYPE        : single_sweep       \r\n",
      "PROCESSING_DONE    : no_processing      \r\n",
      "RESERVED5          : 0                  \r\n",
      "RIS_SWEEPS         : 1                  \r\n",
      "TIMEBASE           : 20_ns/div          \r\n",
      "VERT_COUPLING      : DC_50_Ohms         \r\n",
      "PROBE_ATT          : 1.0000e+00         \r\n",
      "FIXED_VERT_GAIN    : 100_mV/div         \r\n",
      "BANDWIDTH_LIMIT    : off                \r\n",
      "VERTICAL_VERNIER   : 1.0000e+00         \r\n",
      "ACQ_VERT_OFFSET    : -3.0200e-01        \r\n",
      "WAVE_SOURCE        : CHANNEL_1          \r\n",
      "\"\n",
      "C3:INSP \"\r\n",
      "DESCRIPTOR_NAME    : WAVEDESC           \r\n",
      "TEMPLATE_NAME      : LECROY_2_3         \r\n",
      "COMM_TYPE          : byte               \r\n",
      "COMM_ORDER         : LOFIRST            \r\n",
      "WAVE_DESCRIPTOR    : 346                \r\n",
      "USER_TEXT          : 0                  \r\n",
      "RES_DESC1          : 0                  \r\n",
      "TRIGTIME_ARRAY     : 0                  \r\n",
      "RIS_TIME_ARRAY     : 0                  \r\n",
      "RES_ARRAY1         : 0                  \r\n",
      "WAVE_ARRAY_1       : 2002               \r\n",
      "WAVE_ARRAY_2       : 0                  \r\n",
      "RES_ARRAY2         : 0                  \r\n",
      "RES_ARRAY3         : 0                  \r\n",
      "INSTRUMENT_NAME    : LECROYWaveRunnerWO \r\n",
      "INSTRUMENT_NUMBER  : 20439              \r\n",
      "TRACE_LABEL        :                    \r\n",
      "RESERVED1          : 2002               \r\n",
      "RESERVED2          : 0                  \r\n",
      "WAVE_ARRAY_COUNT   : 2002               \r\n",
      "PNTS_PER_SCREEN    : 2000               \r\n",
      "FIRST_VALID_PNT    : 0                  \r\n",
      "LAST_VALID_PNT     : 2001               \r\n",
      "FIRST_POINT        : 0                  \r\n",
      "SPARSING_FACTOR    : 1                  \r\n",
      "SEGMENT_INDEX      : 0                  \r\n",
      "SUBARRAY_COUNT     : 1                  \r\n",
      "SWEEPS_PER_ACQ     : 1                  \r\n",
      "POINTS_PER_PAIR    : 0                  \r\n",
      "PAIR_OFFSET        : 0                  \r\n",
      "VERTICAL_GAIN      : 1.7576e-03         \r\n",
      "VERTICAL_OFFSET    : -1.0150e-01        \r\n",
      "MAX_VALUE          : 1.1300e+02         \r\n",
      "MIN_VALUE          : -1.1400e+02        \r\n",
      "NOMINAL_BITS       : 8                  \r\n",
      "NOM_SUBARRAY_COUNT : 1                  \r\n",
      "HORIZ_INTERVAL     : 1.0000e-10         \r\n",
      "HORIZ_OFFSET       : -6.48164649e-08    \r\n",
      "PIXEL_OFFSET       : -6.48000000e-08    \r\n",
      "VERTUNIT           : Unit Name = V\r\n",
      "HORUNIT            : Unit Name = S\r\n",
      "HORIZ_UNCERTAINTY  : 1.0000e-12         \r\n",
      "TRIGGER_TIME       : Date = OCT 14, 2020, Time = 14:13:24.792914696\r\n",
      "ACQ_DURATION       : 0.0000e+00         \r\n",
      "RECORD_TYPE        : single_sweep       \r\n",
      "PROCESSING_DONE    : no_processing      \r\n",
      "RESERVED5          : 0                  \r\n",
      "RIS_SWEEPS         : 1                  \r\n",
      "TIMEBASE           : 20_ns/div          \r\n",
      "VERT_COUPLING      : DC_50_Ohms         \r\n",
      "PROBE_ATT          : 1.0000e+00         \r\n",
      "FIXED_VERT_GAIN    : 50_mV/div          \r\n",
      "BANDWIDTH_LIMIT    : off                \r\n",
      "VERTICAL_VERNIER   : 1.0000e+00         \r\n",
      "ACQ_VERT_OFFSET    : -1.0150e-01        \r\n",
      "WAVE_SOURCE        : CHANNEL_3          \r\n",
      "\"\n"
     ]
    },
    {
     "name": "stderr",
     "output_type": "stream",
     "text": [
      "2020-10-14 17:13:24,768 - WARNING - lightlab.visa:\n",
      "\tAccess to VISAObject.resMan will be deprecated soon. Please include it in InstrumentSessionBase. \n",
      "2020-10-14 17:13:24,780 - WARNING - lightlab.visa:\n",
      "\tAccess to VISAObject.mbSession will be deprecated soon. Please include it in InstrumentSessionBase. \n",
      "2020-10-14 17:13:24,788 - WARNING - lightlab.visa:\n",
      "\tAccess to VISAObject.mbSession will be deprecated soon. Please include it in InstrumentSessionBase. \n"
     ]
    },
    {
     "name": "stdout",
     "output_type": "stream",
     "text": [
      "C3:INSP \"\r\n",
      "DESCRIPTOR_NAME    : WAVEDESC           \r\n",
      "TEMPLATE_NAME      : LECROY_2_3         \r\n",
      "COMM_TYPE          : byte               \r\n",
      "COMM_ORDER         : LOFIRST            \r\n",
      "WAVE_DESCRIPTOR    : 346                \r\n",
      "USER_TEXT          : 0                  \r\n",
      "RES_DESC1          : 0                  \r\n",
      "TRIGTIME_ARRAY     : 0                  \r\n",
      "RIS_TIME_ARRAY     : 0                  \r\n",
      "RES_ARRAY1         : 0                  \r\n",
      "WAVE_ARRAY_1       : 2002               \r\n",
      "WAVE_ARRAY_2       : 0                  \r\n",
      "RES_ARRAY2         : 0                  \r\n",
      "RES_ARRAY3         : 0                  \r\n",
      "INSTRUMENT_NAME    : LECROYWaveRunnerWO \r\n",
      "INSTRUMENT_NUMBER  : 20439              \r\n",
      "TRACE_LABEL        :                    \r\n",
      "RESERVED1          : 2002               \r\n",
      "RESERVED2          : 0                  \r\n",
      "WAVE_ARRAY_COUNT   : 2002               \r\n",
      "PNTS_PER_SCREEN    : 2000               \r\n",
      "FIRST_VALID_PNT    : 0                  \r\n",
      "LAST_VALID_PNT     : 2001               \r\n",
      "FIRST_POINT        : 0                  \r\n",
      "SPARSING_FACTOR    : 1                  \r\n",
      "SEGMENT_INDEX      : 0                  \r\n",
      "SUBARRAY_COUNT     : 1                  \r\n",
      "SWEEPS_PER_ACQ     : 1                  \r\n",
      "POINTS_PER_PAIR    : 0                  \r\n",
      "PAIR_OFFSET        : 0                  \r\n",
      "VERTICAL_GAIN      : 1.7576e-03         \r\n",
      "VERTICAL_OFFSET    : -1.0150e-01        \r\n",
      "MAX_VALUE          : 1.1300e+02         \r\n",
      "MIN_VALUE          : -1.1400e+02        \r\n",
      "NOMINAL_BITS       : 8                  \r\n",
      "NOM_SUBARRAY_COUNT : 1                  \r\n",
      "HORIZ_INTERVAL     : 1.0000e-10         \r\n",
      "HORIZ_OFFSET       : -6.48164649e-08    \r\n",
      "PIXEL_OFFSET       : -6.48000000e-08    \r\n",
      "VERTUNIT           : Unit Name = V\r\n",
      "HORUNIT            : Unit Name = S\r\n",
      "HORIZ_UNCERTAINTY  : 1.0000e-12         \r\n",
      "TRIGGER_TIME       : Date = OCT 14, 2020, Time = 14:13:24.792914696\r\n",
      "ACQ_DURATION       : 0.0000e+00         \r\n",
      "RECORD_TYPE        : single_sweep       \r\n",
      "PROCESSING_DONE    : no_processing      \r\n",
      "RESERVED5          : 0                  \r\n",
      "RIS_SWEEPS         : 1                  \r\n",
      "TIMEBASE           : 20_ns/div          \r\n",
      "VERT_COUPLING      : DC_50_Ohms         \r\n",
      "PROBE_ATT          : 1.0000e+00         \r\n",
      "FIXED_VERT_GAIN    : 50_mV/div          \r\n",
      "BANDWIDTH_LIMIT    : off                \r\n",
      "VERTICAL_VERNIER   : 1.0000e+00         \r\n",
      "ACQ_VERT_OFFSET    : -1.0150e-01        \r\n",
      "WAVE_SOURCE        : CHANNEL_3          \r\n",
      "\"\n"
     ]
    },
    {
     "data": {
      "image/png": "[encoded data removed]",
      "text/plain": [
       "<Figure size 432x288 with 1 Axes>"
      ]
     },
     "metadata": {
      "needs_background": "light"
     },
     "output_type": "display_data"
    }
   ],
   "source": [
    "# test and save pulsing and stop\n",
    "import matplotlib.pyplot as plt\n",
    "import json\n",
    "\n",
    "A2=4*10**(-5) # Device area in cm2\n",
    "A3=4*10**(-4)\n",
    "A4=0.002\n",
    "A5=0.01\n",
    "A6=0.1\n",
    "\n",
    "A7=0.02*0.02 #200 um * 200 um laser, in cm2\n",
    "\n",
    "A9=0.01*0.01 #100 um * 100 um laser, in cm2\n",
    "\n",
    "A8=2*10**(-4)\n",
    "\n",
    "A=A7\n",
    "\n",
    "\n",
    "# R1=25\n",
    "# R2=50\n",
    "\n",
    "\n",
    "# R=R2\n",
    "\n",
    "\n",
    "voltage = str(13)\n",
    "\n",
    "\n",
    "\n",
    "\n",
    "# set pulser\n",
    "\n",
    "# av.driver.set_PW('20ns')\n",
    "# av.driver.set_freq('5Hz')\n",
    "# av.driver.set_volt(voltage)\n",
    "# av.driver.turn_on()\n",
    "\n",
    "\n",
    "\n",
    "# time.sleep(0.1)\n",
    "\n",
    "\n",
    "# channel 1\n",
    "\n",
    "\n",
    "wd_1 =lecroy.driver.query(\"C1:INSP? 'WAVEDESC'\")\n",
    "print(wd_1) # This is good to check to make sure units are V and s and has a lot of useful info for debugging\n",
    "#comment if annoying\n",
    "\n",
    "\n",
    "vg_pos = wd_1.find('VERTICAL_GAIN')\n",
    "v_gain_1 = float(wd_1[vg_pos+20:vg_pos+36])\n",
    "\n",
    "vo_pos = wd_1.find('VERTICAL_OFFSET')\n",
    "v_offset_1 = float(wd_1[vo_pos+20:vo_pos+40])\n",
    "\n",
    "hi_pos = wd_1.find('HORIZ_INTERVAL')\n",
    "h_int_1 = float(wd_1[hi_pos+20:hi_pos+32])\n",
    "\n",
    "ho_pos = wd_1.find('HORIZ_OFFSET')\n",
    "h_offset_1 = float(wd_1[ho_pos+20:ho_pos+38])\n",
    "\n",
    "#CHECK THIS##########\n",
    "sample_num_1= int((lecroy.driver.query(r\"\"\"vbs? 'return=app.Acquisition.C1.Out.Result.Samples' \"\"\"))[4:])\n",
    "\n",
    "\n",
    "\n",
    "def query_sara(self,queryStr):\n",
    "    ret_bytes = None\n",
    "    try:\n",
    "        self.mbSession = self.resMan.open_resource(self.address)\n",
    "        ret_bytes = self.mbSession.query_binary_values(queryStr, datatype = 'b')\n",
    "        \n",
    "    finally:\n",
    "        self.mbSession.close()\n",
    "        self.mbSession = None\n",
    "                \n",
    "    return ret_bytes\n",
    "        \n",
    "raw_volt_c1 = query_sara(lecroy.driver,\"C1:WF? DAT1\")\n",
    "\n",
    "scaled_volt_c1 = []\n",
    "for i in raw_volt_c1:\n",
    "    scaled_volt_c1.append(i*v_gain_1-v_offset_1)\n",
    "\n",
    "time_ax_1 = np.linspace(0,sample_num_1,sample_num_1)\n",
    "\n",
    "\n",
    "time_ax_scaled_1 = []    \n",
    "for i in time_ax_1:\n",
    "    time_ax_scaled_1.append(i*h_int_1-h_offset_1)\n",
    "     \n",
    "plt.plot(time_ax_scaled_1,scaled_volt_c1)\n",
    "\n",
    "\n",
    "time_ax_scaled_c1_arr = np.asarray(time_ax_scaled_1)\n",
    "scaled_volt_c1_arr = np.asarray(scaled_volt_c1)\n",
    "\n",
    "file = open('C:/lianfeng/20210223/try_Ch1_{0}.json'.format(voltage), 'a')\n",
    "json.dump(scaled_volt_c1_arr.tolist(), file)\n",
    "json.dump(time_ax_scaled_c1_arr.tolist(), file)\n",
    "#####CHECK THIS ^^^^\n",
    "\n",
    "\n",
    "\n",
    "\n",
    "\n",
    "# time.sleep(0.1)\n",
    "\n",
    "#channel 3\n",
    "chan = 3\n",
    "\n",
    "\n",
    "wd_3 =lecroy.driver.query(\"C3:INSP? 'WAVEDESC'\")\n",
    "print(wd_3) # This is good to check to make sure units are V and s and has a lot of useful info for debugging\n",
    "#comment if annoying\n",
    "\n",
    "# Variables to scale the vertical and horizontal axes\n",
    "\n",
    "vg_pos_3 = wd_3.find('VERTICAL_GAIN')\n",
    "v_gain_3 = float(wd_3[vg_pos_3+20:vg_pos_3+36])\n",
    "\n",
    "vo_pos_3 = wd_3.find('VERTICAL_OFFSET')\n",
    "v_offset_3 = float(wd_3[vo_pos_3+20:vo_pos_3+40])\n",
    "\n",
    "hi_pos_3 = wd_3.find('HORIZ_INTERVAL')\n",
    "h_int_3 = float(wd_3[hi_pos_3+20:hi_pos_3+32])\n",
    "\n",
    "ho_pos_3 = wd_3.find('HORIZ_OFFSET')\n",
    "h_offset_3 = float(wd_3[ho_pos_3+20:ho_pos_3+38])\n",
    "\n",
    "\n",
    "#CHECK THIS##########\n",
    "sample_num_3 = int(lecroy.driver.query(r\"\"\"vbs? 'return=app.Acquisition.C3.Out.Result.Samples' \"\"\")[4:])\n",
    "\n",
    "\n",
    "\n",
    "def query_sara(self,queryStr):\n",
    "    ret_bytes = None\n",
    "    try:\n",
    "        self.mbSession = self.resMan.open_resource(self.address)\n",
    "        ret_bytes = self.mbSession.query_binary_values(queryStr, datatype = 'b')\n",
    "        \n",
    "    finally:\n",
    "        self.mbSession.close()\n",
    "        self.mbSession = None\n",
    "                \n",
    "    return ret_bytes\n",
    "        \n",
    "raw_volt_c3 = query_sara(lecroy.driver,\"C3:WF? DAT1\")\n",
    "\n",
    "scaled_volt_c3 = []\n",
    "for i in raw_volt_c3:\n",
    "    scaled_volt_c3.append(i*v_gain_3-v_offset_3)\n",
    "\n",
    "time_ax_3 = np.linspace(0,sample_num_3,sample_num_3)\n",
    "\n",
    "\n",
    "time_ax_scaled_3 = []    \n",
    "for i in time_ax_3:\n",
    "    time_ax_scaled_3.append(i*h_int_3-h_offset_3)\n",
    "     \n",
    "plt.plot(time_ax_scaled_3,scaled_volt_c3)\n",
    "\n",
    "\n",
    "time_ax_scaled_c3_arr = np.asarray(time_ax_scaled_3)\n",
    "scaled_volt_c3_arr = np.asarray(scaled_volt_c3)\n",
    "\n",
    "file = open('C:/lianfeng/20210223/try_Ch3_{0}.json'.format(voltage), 'a')\n",
    "json.dump(scaled_volt_c3_arr.tolist(), file)\n",
    "json.dump(time_ax_scaled_c3_arr.tolist(), file)\n",
    "\n",
    "\n",
    "\n",
    "# # # channel 2\n",
    "# # chan = 2\n",
    "# # avgCnt=5, duration=200e-6\n",
    "# # a = scope.driver.acquire([chan], timeout=50)[0].getData()\n",
    "# # scope.driver.acquire([chan], timeout=50)[0].simplePlot()\n",
    "# # b = np.asarray(a)\n",
    "\n",
    "# # file = open('/Users/lucas/Google Drive/data/Pulsed LED/20200201-DC+pulsed/100 um by 100 um normal doped PolyTPD-10 nm undoped POPy2/try_Ch2_{0}.json'.format(voltage), 'a')\n",
    "# # json.dump(b.tolist(), file)\n",
    "\n",
    "# # time.sleep(0.1)\n",
    "\n",
    "# trash save\n",
    "# time.sleep(0.1)\n",
    "\n",
    "#channel 3\n",
    "chan = 3\n",
    "\n",
    "\n",
    "wd_3 =lecroy.driver.query(\"C3:INSP? 'WAVEDESC'\")\n",
    "print(wd_3) # This is good to check to make sure units are V and s and has a lot of useful info for debugging\n",
    "#comment if annoying\n",
    "\n",
    "# Variables to scale the vertical and horizontal axes\n",
    "vg_pos_3 = wd_3.find('VERTICAL_GAIN')\n",
    "v_gain_3 = float(wd_3[vg_pos_3+20:vg_pos_3+36])\n",
    "\n",
    "vo_pos_3 = wd_3.find('VERTICAL_OFFSET')\n",
    "v_offset_3 = float(wd_3[vo_pos_3+20:vo_pos_3+40])\n",
    "\n",
    "hi_pos_3 = wd_3.find('HORIZ_INTERVAL')\n",
    "h_int_3 = float(wd_3[hi_pos_3+20:hi_pos_3+32])\n",
    "\n",
    "ho_pos_3 = wd_3.find('HORIZ_OFFSET')\n",
    "h_offset_3 = float(wd_3[ho_pos_3+20:ho_pos_3+38])\n",
    "\n",
    "\n",
    "#CHECK THIS##########\n",
    "sample_num_3 = int(lecroy.driver.query(r\"\"\"vbs? 'return=app.Acquisition.C3.Out.Result.Samples' \"\"\")[4:])\n",
    "\n",
    "\n",
    "\n",
    "def query_sara(self,queryStr):\n",
    "    ret_bytes = None\n",
    "    try:\n",
    "        self.mbSession = self.resMan.open_resource(self.address)\n",
    "        ret_bytes = self.mbSession.query_binary_values(queryStr, datatype = 'b')\n",
    "        \n",
    "    finally:\n",
    "        self.mbSession.close()\n",
    "        self.mbSession = None\n",
    "                \n",
    "    return ret_bytes\n",
    "        \n",
    "raw_volt_c3 = query_sara(lecroy.driver,\"C3:WF? DAT1\")\n",
    "\n",
    "scaled_volt_c3 = []\n",
    "for i in raw_volt_c3:\n",
    "    scaled_volt_c3.append(i*v_gain_3-v_offset_3)\n",
    "\n",
    "time_ax_3 = np.linspace(0,sample_num_3,sample_num_3)\n",
    "\n",
    "\n",
    "time_ax_scaled_3 = []    \n",
    "for i in time_ax_3:\n",
    "    time_ax_scaled_3.append(i*h_int_3-h_offset_3)\n",
    "     \n",
    "plt.plot(time_ax_scaled_3,scaled_volt_c3)\n",
    "\n",
    "\n",
    "time_ax_scaled_c3_arr = np.asarray(time_ax_scaled_3)\n",
    "scaled_volt_c3_arr = np.asarray(scaled_volt_c3)\n",
    "file = open('C:/lianfeng/trash/trash.json', 'a')\n",
    "\n",
    "json.dump(scaled_volt_c3_arr.tolist(), file)\n",
    "json.dump(time_ax_scaled_c3_arr.tolist(), file)\n",
    "\n",
    "\n",
    "\n",
    "# # time.sleep(0.1) \n",
    "\n",
    "# stop pulser\n",
    "av.driver.turn_off()\n",
    "\n",
    "# # with open('/Users/lucas/Google Drive/Python code/perovskite pulsing/20190801/try_Ch1_{0}.json'.format(voltage)) as f:\n",
    "# #     data_ch1 = json.load(f)\n",
    "\n",
    "# # #with open('/Users/lucas/Google Drive/Python code/perovskite pulsing/20190731/try_Ch2_{0}_15ns.json'.format(voltage)) as f:\n",
    "# # #    data_ch2 = json.load(f)    \n",
    "\n",
    "\n",
    "# # with open('/Users/lucas/Google Drive/Python code/perovskite pulsing/20190731/try_Ch3_{0}_15ns.json'.format(voltage)) as f:\n",
    "# #     data_ch3 = json.load(f)\n",
    "    \n",
    "# #     #length=10000\n",
    "\n",
    "# # pick=3000 #put the pulse around the 3rd grid\n",
    "\n",
    "# # V_chan1=sum(data_ch1[1][pick:(pick+50)])/51\n",
    "\n",
    "# # V_chan2=sum(data_ch2[1][pick:(pick+50)])/51\n",
    "\n",
    "# # V_chan3=sum(data_ch3[1][pick:(pick+50)])/51\n",
    "\n",
    "# # CurrentDensity=(10*V_chan1-V_chan2)/(R*A)\n",
    "\n",
    "\n",
    "# # print(10*V_chan1)\n",
    "# # print(V_chan2)\n",
    "# # print(V_chan3)\n",
    "# # print(CurrentDensity)\n",
    "    \n",
    "\n",
    "\n",
    "\n"
   ]
  },
  {
   "cell_type": "code",
   "execution_count": 83,
   "metadata": {},
   "outputs": [
    {
     "data": {
      "text/plain": [
       "-8.80114585e-08"
      ]
     },
     "execution_count": 83,
     "metadata": {},
     "output_type": "execute_result"
    }
   ],
   "source": [
    "ho_pos = wd_1.find('HORIZ_OFFSET')\n",
    "h_offset_1 = float(wd_1[ho_pos+20:ho_pos+38])\n",
    "h_offset_1"
   ]
  },
  {
   "cell_type": "code",
   "execution_count": 102,
   "metadata": {},
   "outputs": [],
   "source": [
    "# stop pulser\n",
    "av.driver.turn_off()"
   ]
  },
  {
   "cell_type": "code",
   "execution_count": 638,
   "metadata": {},
   "outputs": [
    {
     "data": {
      "text/plain": [
       "2.72"
      ]
     },
     "execution_count": 638,
     "metadata": {},
     "output_type": "execute_result"
    }
   ],
   "source": [
    "# DATA PROCESSING\n",
    "\n",
    "import json\n",
    "import numpy as np\n",
    "import matplotlib.pyplot as plt\n",
    "from pprint import pprint\n",
    "\n",
    "\n",
    "voltage = str(0)\n",
    "\n",
    "    \n",
    "#with open('/Users/lucas/Google Drive/Python code/perovskite pulsing/20190731/try_Ch1_{0}.json'.format(voltage)) as f:\n",
    "#    data_ch1 = json.load(f)\n",
    "\n",
    "with open('/Users/lucas/Google Drive/Python code/perovskite pulsing/20190731/try_Ch2_{0}_15ns.json'.format(voltage)) as f:\n",
    "    data_ch2 = json.load(f)    \n",
    "\n",
    "\n",
    "with open('/Users/lucas/Google Drive/Python code/perovskite pulsing/20190731/try_Ch3_{0}_15ns.json'.format(voltage)) as f:\n",
    "    data_ch3 = json.load(f)\n",
    "\n",
    "    \n",
    "max(data_ch2[1])\n"
   ]
  },
  {
   "cell_type": "code",
   "execution_count": 540,
   "metadata": {
    "scrolled": true
   },
   "outputs": [
    {
     "data": {
      "image/png": "[encoded data removed]",
      "text/plain": [
       "<Figure size 576x936 with 1 Axes>"
      ]
     },
     "metadata": {
      "needs_background": "light"
     },
     "output_type": "display_data"
    }
   ],
   "source": [
    "#CHANNEL 1 VOLTAGE\n",
    "fig = plt.figure(figsize=(8,13))\n",
    "\n",
    "\n",
    "ax1 = fig.add_subplot(211)\n",
    "\n",
    "    \n",
    "ax1.set_title(\"Scope Acquisition\")    \n",
    "ax1.set_xlabel('Time (s)')\n",
    "ax1.set_ylabel('Voltage (V)')\n",
    "ax1.set_xlim(-0.00000032, 0.00000005)\n",
    "\n",
    "ax1.plot(data_ch1[0], [(10*i) for i in data_ch1[1]],color='crimson', label = 'Voltage measured in Channel 1')\n",
    "#ax1.plot(data_ch1[0], data_ch1[1] , color='crimson', label = 'Channel 1')\n",
    "\n",
    "#ax1.plot(data_ch1[0], data_ch1[1] , color='crimson', label = 'Channel 1')\n",
    "\n",
    "\n",
    "plt.legend(loc ='upper right')\n",
    "plt.savefig('/Users/lucas/Google Drive/Python code/perovskite pulsing/20190708/ch1_voltage_glass_120V_ns_NoLoad.png',  bbox_inches='tight', dpi =200) \n"
   ]
  },
  {
   "cell_type": "code",
   "execution_count": 639,
   "metadata": {},
   "outputs": [
    {
     "data": {
      "image/png": "[encoded data removed]",
      "text/plain": [
       "<Figure size 576x936 with 1 Axes>"
      ]
     },
     "metadata": {
      "needs_background": "light"
     },
     "output_type": "display_data"
    }
   ],
   "source": [
    "#CHANNEL 2 current density\n",
    "\n",
    "A2=4*10**(-5) # Device area in cm2\n",
    "A3=4*10**(-4)\n",
    "A4=0.002\n",
    "A5=0.01\n",
    "A6=0.1\n",
    "\n",
    "A7=0.02*0.02 #200 um * 200 um laser, in cm2\n",
    "\n",
    "A8=2*10**(-4)\n",
    "\n",
    "A=A8\n",
    "\n",
    "fig = plt.figure(figsize=(8,13))\n",
    "\n",
    "\n",
    "ax1 = fig.add_subplot(211)\n",
    "\n",
    "\n",
    "ax1.set_title(\"Scope Acquisition\")    \n",
    "ax1.set_xlabel('Time (s)')\n",
    "ax1.set_ylabel('Current Density (A/cm2)')\n",
    "ax1.set_xlim(-0.000001, -0.0000007)\n",
    "#ax1.plot(data_ch2[0], data_ch2[1] , color='crimson', label = 'Current density measured in Channel 2')\n",
    "ax1.plot(data_ch2[0], [(i/A) for i in data_ch2[1]],color='blue', label = 'Current density measured in Channel 2')\n",
    "plt.legend(loc ='upper right')\n",
    "plt.savefig('/Users/lucas/Google Drive/Python code/perovskite pulsing/20190731/ch2_current density_200V_15ns.png',  bbox_inches='tight', dpi =200) "
   ]
  },
  {
   "cell_type": "code",
   "execution_count": 542,
   "metadata": {},
   "outputs": [
    {
     "data": {
      "image/png": "[encoded data removed]",
      "text/plain": [
       "<Figure size 576x936 with 1 Axes>"
      ]
     },
     "metadata": {
      "needs_background": "light"
     },
     "output_type": "display_data"
    }
   ],
   "source": [
    "#CURRENT ON THE DEVICE\n",
    "\n",
    "A2=4*10**(-5) # Device area in cm2\n",
    "A3=4*10**(-4)\n",
    "A4=0.002\n",
    "A5=0.01\n",
    "A6=0.1\n",
    "\n",
    "A7=0.02*0.02 #200 um * 200 um laser, in cm2\n",
    "\n",
    "A=A7\n",
    "\n",
    "\n",
    "R1=814 #814 O\n",
    "R2=177\n",
    "R3=53.4\n",
    "R4=10.4\n",
    "R5=2.4\n",
    "\n",
    "R=R4\n",
    "\n",
    "\n",
    "fig1 = plt.figure(figsize=(8,13))\n",
    "ax2 = fig1.add_subplot(211)\n",
    "\n",
    "\n",
    "\n",
    "ax2.set_title(\"Scope Acquisition\")    \n",
    "ax2.set_xlabel('Time (s)')\n",
    "ax2.set_ylabel('Current density (A/cm2)')\n",
    "\n",
    "\n",
    "ax2.set_xlim(-0.00000015, -0.00000008)\n",
    "#ax2.set_ylim(0, 4000)\n",
    "ax2.plot(data_ch1[0], [(10*i-j)/(A*R) for i, j in zip(data_ch1[1], data_ch2[1])], color='crimson', label = 'Calculated current density')\n",
    "\n",
    "\n",
    "plt.legend(loc ='upper right')\n",
    "\n",
    "plt.savefig('/Users/lucas/Google Drive/Python code/perovskite pulsing/20190708/grating_current_sa_120V_ns_noLoad.png',  bbox_inches='tight', dpi =200)\n"
   ]
  },
  {
   "cell_type": "code",
   "execution_count": 640,
   "metadata": {},
   "outputs": [
    {
     "data": {
      "image/png": "[encoded data removed]",
      "text/plain": [
       "<Figure size 576x936 with 1 Axes>"
      ]
     },
     "metadata": {
      "needs_background": "light"
     },
     "output_type": "display_data"
    }
   ],
   "source": [
    "#Photovoltage - channel 3 - light emission intensity\n",
    "\n",
    "fig = plt.figure(figsize=(8,13))\n",
    "\n",
    "\n",
    "ax1 = fig.add_subplot(211)\n",
    "\n",
    "\n",
    "ax1.set_title(\"Scope Acquisition\")    \n",
    "ax1.set_xlabel('Time (s)')\n",
    "ax1.set_ylabel('Voltage (V)')\n",
    "ax1.set_xlim(-0.000001, -0.0000007)\n",
    "ax1.plot(data_ch3[0], data_ch3[1] , color='crimson', label = 'Channel 3')\n",
    "\n",
    "plt.legend(loc ='upper right')\n",
    "plt.savefig('/Users/lucas/Google Drive/Python code/perovskite pulsing/20190731/ch3_photovoltage_200V_15ns.png',  bbox_inches='tight', dpi =200) \n"
   ]
  },
  {
   "cell_type": "code",
   "execution_count": 86,
   "metadata": {},
   "outputs": [
    {
     "data": {
      "image/png": "[encoded data removed]",
      "text/plain": [
       "<Figure size 576x936 with 1 Axes>"
      ]
     },
     "metadata": {
      "needs_background": "light"
     },
     "output_type": "display_data"
    }
   ],
   "source": [
    "#Calculated power from channel 3 - light emission intensity\n",
    "\n",
    "fig1 = plt.figure(figsize=(8,13))\n",
    "ax1 = fig1.add_subplot(211)\n",
    "\n",
    "\n",
    "ax1.set_title(\"Scope Acquisition\")    \n",
    "ax1.set_xlabel('Time (s)')\n",
    "ax1.set_ylabel('Power (mW)')\n",
    "ax1.set_xlim(-0.000012, -0.000005)\n",
    "original = data_ch3[0]\n",
    "#trim = original[0:9855]\n",
    "\n",
    "\n",
    "Sensitivity=0.5 #A/W\n",
    "Load=50\n",
    "\n",
    "ax1.plot(original, [1000*i/(Sensitivity*Load) for i in data_ch3[1]], color='crimson', label = 'Light Emission Power')\n",
    "#ax1.plot(trim, data_ch3[1], color='navy', label = 'Channel 3')\n",
    "\n",
    "plt.legend(loc ='upper right')\n",
    "\n",
    "plt.savefig('/Users/lucas/Google Drive/Python code/perovskite pulsing/20190708/ch3_photoPower_17V.png',  bbox_inches='tight', dpi =200)\n",
    "\n"
   ]
  },
  {
   "cell_type": "code",
   "execution_count": 238,
   "metadata": {},
   "outputs": [
    {
     "data": {
      "image/png": "[encoded data removed]",
      "text/plain": [
       "<Figure size 432x288 with 1 Axes>"
      ]
     },
     "metadata": {
      "needs_background": "light"
     },
     "output_type": "display_data"
    }
   ],
   "source": [
    "chan = 1\n",
    "\n",
    "a = scope.driver.acquire([chan], timeout=None)[0].getData()\n",
    "scope.driver.acquire([chan], timeout=None)[0].simplePlot()\n",
    "b = np.asarray(a)\n",
    "import json\n",
    "file = open('/Users/lucas/Desktop/trash.json', 'a')\n",
    "json.dump(b.tolist(), file)\n",
    "\n"
   ]
  },
  {
   "cell_type": "code",
   "execution_count": 64,
   "metadata": {},
   "outputs": [],
   "source": [
    "a = data_ch3[0]\n",
    "b = a[0: 9855]"
   ]
  },
  {
   "cell_type": "code",
   "execution_count": 78,
   "metadata": {},
   "outputs": [
    {
     "data": {
      "text/plain": [
       "<matplotlib.legend.Legend at 0x115ff02e8>"
      ]
     },
     "execution_count": 78,
     "metadata": {},
     "output_type": "execute_result"
    },
    {
     "data": {
      "image/png": "[encoded data removed]",
      "text/plain": [
       "<Figure size 576x936 with 1 Axes>"
      ]
     },
     "metadata": {
      "needs_background": "light"
     },
     "output_type": "display_data"
    }
   ],
   "source": [
    "fig1 = plt.figure(figsize=(8,13))\n",
    "ax2 = fig1.add_subplot(211)\n",
    "\n",
    "\n",
    "ax2.set_title(\"Scope Acquisition\")    \n",
    "ax2.set_xlabel('Time (s)')\n",
    "ax2.set_ylabel('Current (A)')\n",
    "\n",
    "\n",
    "ax2.set_xlim(0.000001, 0.0000095)\n",
    "ax2.plot(data_ch1[0], [(i - j - 2.02)/3800 for i, j in zip(data_ch1[1], data_ch2[1])], color='crimson', label = 'Difference/resistance')\n",
    "\n",
    "plt.legend(loc ='upper right')\n",
    "\n",
    "for i in [0.000001, 0.0000095]:\n",
    "    np.min( [(i - j - 2.02)/3800 for i, j in zip(data_ch1[1], data_ch2[1])])"
   ]
  },
  {
   "cell_type": "code",
   "execution_count": 155,
   "metadata": {},
   "outputs": [],
   "source": [
    "list = []\n",
    "for i in np.arange(5100,5900,10):\n",
    "    list.append(data_ch1[1][i])"
   ]
  },
  {
   "cell_type": "code",
   "execution_count": 157,
   "metadata": {},
   "outputs": [
    {
     "data": {
      "text/plain": [
       "0.3201464508627262"
      ]
     },
     "execution_count": 157,
     "metadata": {},
     "output_type": "execute_result"
    }
   ],
   "source": [
    "np.mean(list)\n",
    "np.std(list)"
   ]
  },
  {
   "cell_type": "code",
   "execution_count": 152,
   "metadata": {},
   "outputs": [
    {
     "data": {
      "text/plain": [
       "2.84"
      ]
     },
     "execution_count": 152,
     "metadata": {},
     "output_type": "execute_result"
    }
   ],
   "source": [
    "data_ch2[1][6400]"
   ]
  },
  {
   "cell_type": "code",
   "execution_count": 28,
   "metadata": {},
   "outputs": [],
   "source": [
    "a =[(i - j)/3800 for i, j in zip(data_ch1[1], data_ch2[1])]"
   ]
  },
  {
   "cell_type": "code",
   "execution_count": 20,
   "metadata": {},
   "outputs": [
    {
     "data": {
      "text/plain": [
       "10000"
      ]
     },
     "execution_count": 20,
     "metadata": {},
     "output_type": "execute_result"
    }
   ],
   "source": [
    "len(a)"
   ]
  },
  {
   "cell_type": "code",
   "execution_count": 115,
   "metadata": {},
   "outputs": [
    {
     "data": {
      "text/plain": [
       "0.466"
      ]
     },
     "execution_count": 115,
     "metadata": {},
     "output_type": "execute_result"
    }
   ],
   "source": [
    "np.max(data_ch3[1])"
   ]
  },
  {
   "cell_type": "code",
   "execution_count": 113,
   "metadata": {},
   "outputs": [
    {
     "data": {
      "text/plain": [
       "0.023254851973684213"
      ]
     },
     "execution_count": 113,
     "metadata": {},
     "output_type": "execute_result"
    }
   ],
   "source": [
    "a =[(i - j)/3800 for i, j in zip(data_ch1[1], data_ch2[1])]\n",
    "a[4000]"
   ]
  },
  {
   "cell_type": "code",
   "execution_count": null,
   "metadata": {},
   "outputs": [],
   "source": []
  }
 ],
 "metadata": {
  "kernelspec": {
   "display_name": "Python 3",
   "language": "python",
   "name": "python3"
  },
  "language_info": {
   "codemirror_mode": {
    "name": "ipython",
    "version": 3
   },
   "file_extension": ".py",
   "mimetype": "text/x-python",
   "name": "python",
   "nbconvert_exporter": "python",
   "pygments_lexer": "ipython3",
   "version": "3.8.3"
  }
 },
 "nbformat": 4,
 "nbformat_minor": 2
}
